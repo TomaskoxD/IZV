{
 "cells": [
  {
   "attachments": {},
   "cell_type": "markdown",
   "metadata": {},
   "source": [
    "# IZV Úloha 2 - Testovanie hypotézy\n",
    "## Hypotéza 1\n",
    "**Na cestách prvej triedy sa pri nehodách umieralo s rovnakou pravdepodobnosťou ako na cestách tretej triedy.**"
   ]
  },
  {
   "cell_type": "code",
   "execution_count": 44,
   "metadata": {},
   "outputs": [],
   "source": [
    "# Import the pandas, numby and scipy libraries\n",
    "import pandas as pd\n",
    "import scipy.stats as stats\n",
    "import numpy as np"
   ]
  },
  {
   "attachments": {},
   "cell_type": "markdown",
   "metadata": {},
   "source": [
    "Načítam dáta do df pomocou read_pickle()"
   ]
  },
  {
   "cell_type": "code",
   "execution_count": 45,
   "metadata": {},
   "outputs": [],
   "source": [
    "df = pd.read_pickle('accidents.pkl.gz')"
   ]
  },
  {
   "attachments": {},
   "cell_type": "markdown",
   "metadata": {},
   "source": [
    "Skopírujem dataframe a vytvorím nový stĺpec, ktorý okazuje či boli nehody s obeťami"
   ]
  },
  {
   "cell_type": "code",
   "execution_count": 46,
   "metadata": {},
   "outputs": [],
   "source": [
    "df1 = df.copy()\n",
    "df1[\"fatal\"] = df[\"p13a\"] > 0"
   ]
  },
  {
   "attachments": {},
   "cell_type": "markdown",
   "metadata": {},
   "source": [
    "Vyfiltrujem riadky ktoré ukazujú na nehody na cestách 1. a 3. triedy\n",
    "Prepíšem hodnoty pomocou map()"
   ]
  },
  {
   "cell_type": "code",
   "execution_count": 47,
   "metadata": {},
   "outputs": [],
   "source": [
    "\n",
    "df1 = df1[df1[\"p36\"].isin([1, 3])]\n",
    "df1[\"p36\"] = df1[\"p36\"].map({1: \"1st class\", 3: \"3rd class\"})\n"
   ]
  },
  {
   "attachments": {},
   "cell_type": "markdown",
   "metadata": {},
   "source": [
    "Vytvorím kontingenčnú tabuľku pomocou crosstab()"
   ]
  },
  {
   "cell_type": "code",
   "execution_count": 48,
   "metadata": {},
   "outputs": [
    {
     "name": "stdout",
     "output_type": "stream",
     "text": [
      "[[78618 73352]\n",
      " [  911   448]]\n"
     ]
    },
    {
     "data": {
      "text/html": [
       "<div>\n",
       "<style scoped>\n",
       "    .dataframe tbody tr th:only-of-type {\n",
       "        vertical-align: middle;\n",
       "    }\n",
       "\n",
       "    .dataframe tbody tr th {\n",
       "        vertical-align: top;\n",
       "    }\n",
       "\n",
       "    .dataframe thead th {\n",
       "        text-align: right;\n",
       "    }\n",
       "</style>\n",
       "<table border=\"1\" class=\"dataframe\">\n",
       "  <thead>\n",
       "    <tr style=\"text-align: right;\">\n",
       "      <th>Road type</th>\n",
       "      <th>1st class</th>\n",
       "      <th>3rd class</th>\n",
       "    </tr>\n",
       "    <tr>\n",
       "      <th>Fatal</th>\n",
       "      <th></th>\n",
       "      <th></th>\n",
       "    </tr>\n",
       "  </thead>\n",
       "  <tbody>\n",
       "    <tr>\n",
       "      <th>False</th>\n",
       "      <td>78618</td>\n",
       "      <td>73352</td>\n",
       "    </tr>\n",
       "    <tr>\n",
       "      <th>True</th>\n",
       "      <td>911</td>\n",
       "      <td>448</td>\n",
       "    </tr>\n",
       "  </tbody>\n",
       "</table>\n",
       "</div>"
      ],
      "text/plain": [
       "Road type  1st class  3rd class\n",
       "Fatal                          \n",
       "False          78618      73352\n",
       "True             911        448"
      ]
     },
     "execution_count": 48,
     "metadata": {},
     "output_type": "execute_result"
    }
   ],
   "source": [
    "tab = pd.crosstab(df1[\"fatal\"], df1[\"p36\"], rownames=[\"Fatal\"], colnames=[\"Road type\"])\n",
    "print(tab.to_numpy())\n",
    "tab"
   ]
  },
  {
   "attachments": {},
   "cell_type": "markdown",
   "metadata": {},
   "source": [
    "Vypočítam $\\chi^2$"
   ]
  },
  {
   "cell_type": "code",
   "execution_count": 49,
   "metadata": {},
   "outputs": [
    {
     "data": {
      "text/plain": [
       "(125.72070150000258,\n",
       " 3.5395243450138555e-29,\n",
       " 1,\n",
       " array([[78824.11109444, 73145.88890556],\n",
       "        [  704.88890556,   654.11109444]]))"
      ]
     },
     "execution_count": 49,
     "metadata": {},
     "output_type": "execute_result"
    }
   ],
   "source": [
    "chi = stats.chi2_contingency(tab)\n",
    "chi"
   ]
  },
  {
   "attachments": {},
   "cell_type": "markdown",
   "metadata": {},
   "source": [
    "Z rozdielu medzi očakávaným a skutočným výsledkom vidím, že cesty prvej triedy si celkovo vyžiadali viac smrteľných zranení."
   ]
  },
  {
   "cell_type": "code",
   "execution_count": 50,
   "metadata": {},
   "outputs": [
    {
     "data": {
      "text/html": [
       "<div>\n",
       "<style scoped>\n",
       "    .dataframe tbody tr th:only-of-type {\n",
       "        vertical-align: middle;\n",
       "    }\n",
       "\n",
       "    .dataframe tbody tr th {\n",
       "        vertical-align: top;\n",
       "    }\n",
       "\n",
       "    .dataframe thead th {\n",
       "        text-align: right;\n",
       "    }\n",
       "</style>\n",
       "<table border=\"1\" class=\"dataframe\">\n",
       "  <thead>\n",
       "    <tr style=\"text-align: right;\">\n",
       "      <th>Road type</th>\n",
       "      <th>1st class</th>\n",
       "      <th>3rd class</th>\n",
       "    </tr>\n",
       "    <tr>\n",
       "      <th>Fatal</th>\n",
       "      <th></th>\n",
       "      <th></th>\n",
       "    </tr>\n",
       "  </thead>\n",
       "  <tbody>\n",
       "    <tr>\n",
       "      <th>False</th>\n",
       "      <td>-206.111094</td>\n",
       "      <td>206.111094</td>\n",
       "    </tr>\n",
       "    <tr>\n",
       "      <th>True</th>\n",
       "      <td>206.111094</td>\n",
       "      <td>-206.111094</td>\n",
       "    </tr>\n",
       "  </tbody>\n",
       "</table>\n",
       "</div>"
      ],
      "text/plain": [
       "Road type   1st class   3rd class\n",
       "Fatal                            \n",
       "False     -206.111094  206.111094\n",
       "True       206.111094 -206.111094"
      ]
     },
     "execution_count": 50,
     "metadata": {},
     "output_type": "execute_result"
    }
   ],
   "source": [
    "tab - chi[3]"
   ]
  },
  {
   "cell_type": "code",
   "execution_count": 51,
   "metadata": {},
   "outputs": [
    {
     "name": "stdout",
     "output_type": "stream",
     "text": [
      "P-value 3.5395243450138555e-29 is lesser than 0.05\n"
     ]
    }
   ],
   "source": [
    "print(\"P-value\", chi[1], \"is\", \"lesser\" if chi[1] < 0.05 else \"greater\", \"than 0.05\")"
   ]
  },
  {
   "attachments": {},
   "cell_type": "markdown",
   "metadata": {},
   "source": [
    "P-hodnota 3,54*10^-29 je oveľa menšia ako 0,05. Z tohto dôvodu považujem nulovú hypotézu za nepravdivú a viem povedať, že existuje významná korelácia medzi pravdepodobnosťou smrteľných nehôd na cestách prvej a cestách tretej triedy."
   ]
  },
  {
   "attachments": {},
   "cell_type": "markdown",
   "metadata": {},
   "source": [
    "## Hypotéza 2\n",
    "**Pri nehodách vozidiel značky Škoda je škoda na vozidle nižšia ako pri nehodách vozidiel Audi.**\n",
    "\n",
    "Skopírujem dataframe a vyfiltrujem len riadky, ktoré obsahujú záznamy o vozidlách značky Škoda a Audi"
   ]
  },
  {
   "cell_type": "code",
   "execution_count": 52,
   "metadata": {},
   "outputs": [],
   "source": [
    "df2 = df.copy()\n",
    "df_2 = df2[df2[\"p45a\"].isin([39, 2])]"
   ]
  },
  {
   "attachments": {},
   "cell_type": "markdown",
   "metadata": {},
   "source": [
    "Rozdelím dataframe na dva, každý pre inú značku auta, zresetujem indexy"
   ]
  },
  {
   "cell_type": "code",
   "execution_count": 53,
   "metadata": {},
   "outputs": [
    {
     "name": "stdout",
     "output_type": "stream",
     "text": [
      "0     200\n",
      "1     300\n",
      "2      50\n",
      "3    1200\n",
      "4     500\n",
      "Name: p53, dtype: int64 118379\n",
      "\n",
      "\n",
      "0    4000\n",
      "1     400\n",
      "2     500\n",
      "3       0\n",
      "4     200\n",
      "Name: p53, dtype: int64 11445\n"
     ]
    }
   ],
   "source": [
    "skoda = df2.loc[df2[\"p45a\"] == 39, [\"p53\"]].squeeze().reset_index(drop=True)\n",
    "audi = df2.loc[df2[\"p45a\"] == 2, [\"p53\"]].squeeze().reset_index(drop=True)\n",
    "\n",
    "\n",
    "print(skoda.head(), skoda.count())\n",
    "print(\"\\n\")\n",
    "print(audi.head(), audi.count())\n"
   ]
  },
  {
   "cell_type": "code",
   "execution_count": null,
   "metadata": {},
   "outputs": [
    {
     "name": "stdout",
     "output_type": "stream",
     "text": [
      "0     200\n",
      "1     300\n",
      "2      50\n",
      "3    1200\n",
      "4     500\n",
      "Name: p53, dtype: int64 118379\n",
      "\n",
      "\n",
      "0    4000\n",
      "1     400\n",
      "2     500\n",
      "3       0\n",
      "4     200\n",
      "Name: p53, dtype: int64 11445\n"
     ]
    }
   ],
   "source": [
    "skoda = df2.loc[df2[\"p45a\"] == 39, [\"p53\"]].squeeze().reset_index(drop=True)\n",
    "audi = df2.loc[df2[\"p45a\"] == 2, [\"p53\"]].squeeze().reset_index(drop=True)\n",
    "\n",
    "\n",
    "print(skoda.head(), skoda.count())\n",
    "print(\"\\n\")\n",
    "print(audi.head(), audi.count())\n"
   ]
  },
  {
   "attachments": {},
   "cell_type": "markdown",
   "metadata": {},
   "source": [
    "T-test"
   ]
  },
  {
   "cell_type": "code",
   "execution_count": 54,
   "metadata": {},
   "outputs": [
    {
     "name": "stdout",
     "output_type": "stream",
     "text": [
      "P-value 6.1078288453876684e-121 is lesser than set value of 0.05\n",
      "The value for Škoda is lesser, so in incident damage on Škoda is generally cheaper than on Audi\n"
     ]
    }
   ],
   "source": [
    "val, p = stats.ttest_ind(skoda, audi, equal_var=False, alternative=\"less\")\n",
    "print(\"P-value\", p, \"is\", \"lesser\" if p < 0.05 else \"greater\", \"than set value of 0.05\")\n",
    "print(\n",
    "    \"The value for \",\n",
    "    \"Škoda\" if val < 0 else \"Audi\",\n",
    "    \" is lesser, so in incident damage on \",\n",
    "    \"Škoda\" if val < 0 else \"Audi\",\n",
    "    \" is generally cheaper than on \",\n",
    "    \"Škoda\" if val > 0 else \"Audi\",\n",
    "    sep=\"\",\n",
    ")\n"
   ]
  },
  {
   "attachments": {},
   "cell_type": "markdown",
   "metadata": {},
   "source": [
    "Z výsledku vidím, že P-hodnota je menšia ako 0,05, čo znamená, že nulová hypotéza - priemerné hodnoty dvoch datasetov sú rovnaké, je zamietnutá a že stredná hodnota pre automobily Škoda je menšia. Hypotéza 2 sa teda ukázala ako správna."
   ]
  }
 ],
 "metadata": {
  "kernelspec": {
   "display_name": "Python 3",
   "language": "python",
   "name": "python3"
  },
  "language_info": {
   "codemirror_mode": {
    "name": "ipython",
    "version": 3
   },
   "file_extension": ".py",
   "mimetype": "text/x-python",
   "name": "python",
   "nbconvert_exporter": "python",
   "pygments_lexer": "ipython3",
   "version": "3.10.6"
  },
  "orig_nbformat": 4,
  "vscode": {
   "interpreter": {
    "hash": "916dbcbb3f70747c44a77c7bcd40155683ae19c65e1c03b4aa3499c5328201f1"
   }
  }
 },
 "nbformat": 4,
 "nbformat_minor": 2
}
